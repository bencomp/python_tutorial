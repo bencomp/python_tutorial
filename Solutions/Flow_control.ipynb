{
 "cells": [
  {
   "cell_type": "markdown",
   "metadata": {},
   "source": [
    "# 4. Flow control\n"
   ]
  },
  {
   "cell_type": "markdown",
   "metadata": {},
   "source": [
    "## Exercise 4.1.\n",
    "\n",
    "Write code which can print headingings in a syllabus for a university course which has 12 weeks. More specifically, print the headings 'Week 1', 'Week 2', 'Week 3', etc. "
   ]
  },
  {
   "cell_type": "code",
   "execution_count": null,
   "metadata": {},
   "outputs": [],
   "source": [
    "nr_weeks = 12\n",
    "\n",
    "for i in range( 1, nr_weeks+1):\n",
    "    print( f\"Week {i}\\n\" )"
   ]
  },
  {
   "cell_type": "markdown",
   "metadata": {},
   "source": [
    "## Exercise 4.2.\n",
    "\n",
    "Create a variable that can capture the grade received for a university course. Mext, write some code which can determine whether or not the grade is at a pass level (i.e. higher or lower than 5.5).  "
   ]
  },
  {
   "cell_type": "code",
   "execution_count": null,
   "metadata": {},
   "outputs": [],
   "source": [
    "grade = 7.5\n",
    "\n",
    "if grade >= 5.5:\n",
    "    print('This grade is at a pass level')\n",
    "else:\n",
    "    print('This grade is insufficient.')"
   ]
  },
  {
   "cell_type": "markdown",
   "metadata": {},
   "source": [
    "## Exercise 4.3.\n",
    "\n",
    "Write code which can give information about the century a given year is in. Given the year 1767, for instance, the application must be able to print the following sentence: “The year 1767 is in the eighteenth century”. Limit your algorithm to years in between 1500 and 2010. \n",
    "Note that it is possible to combine two different Boolean expressions using the word ‘and’."
   ]
  },
  {
   "cell_type": "code",
   "execution_count": 2,
   "metadata": {},
   "outputs": [
    {
     "name": "stdout",
     "output_type": "stream",
     "text": [
      "The year 1767 is in the eighteenth century.\n"
     ]
    }
   ],
   "source": [
    "year = 1767\n",
    "\n",
    "\n",
    "if year >= 1500 and year < 1600:\n",
    "    century = \"the sixteenth century\"\n",
    "elif year >= 1600 and year < 1700:\n",
    "    century = \"the seventeenth century\"\n",
    "elif year >= 1700 and year < 1800:\n",
    "    century = \"the eighteenth century\"\n",
    "elif year >= 1800 and year < 1900:\n",
    "    century = \"the nineteenth century\"\n",
    "else:\n",
    "    century = \"the twentienth century\"\n",
    "    \n",
    "    \n",
    "print( f\"The year {year} is in {century}.\" )"
   ]
  },
  {
   "cell_type": "markdown",
   "metadata": {},
   "source": [
    "## Exercise 4.4\n",
    "\n",
    "Program a small guessing game. In this game, the player needs to guess a number in between 1 and 50. You can use the code below as a basis. \n",
    "\n",
    "The `randint()` method firstly generates a random number in between 1 and 50. The standard function input() can be used to request a value from the user. The function int() converts the input into an integer, if possible.\n",
    "\n",
    "When the user enters a value which is too low or too high, this information is communicated to the user via a print statement."
   ]
  },
  {
   "cell_type": "code",
   "execution_count": null,
   "metadata": {},
   "outputs": [],
   "source": [
    "\n",
    "import random\n",
    "\n",
    "max = 50\n",
    "number = random.randint(0,max)\n",
    "\n",
    "guess = int( input( f\"Guess a number in between 1 and {max}: \") )\n",
    "\n",
    "while guess != number:\n",
    "\n",
    "    if guess > number:\n",
    "        print(\"Lower!\")\n",
    "    elif guess < number:\n",
    "        print(\"Higher!\")\n",
    "    guess = int( input(\"Guess again ... \\n\") )\n",
    "\n",
    "print( f\"The correct number is indeed {number}.\" )"
   ]
  }
 ],
 "metadata": {
  "kernelspec": {
   "display_name": "Python 3",
   "language": "python",
   "name": "python3"
  },
  "language_info": {
   "codemirror_mode": {
    "name": "ipython",
    "version": 3
   },
   "file_extension": ".py",
   "mimetype": "text/x-python",
   "name": "python",
   "nbconvert_exporter": "python",
   "pygments_lexer": "ipython3",
   "version": "3.8.8"
  }
 },
 "nbformat": 4,
 "nbformat_minor": 2
}
