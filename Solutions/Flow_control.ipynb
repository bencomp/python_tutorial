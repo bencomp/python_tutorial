{
 "cells": [
  {
   "cell_type": "markdown",
   "metadata": {},
   "source": [
    "# Exercises"
   ]
  },
  {
   "cell_type": "markdown",
   "metadata": {},
   "source": [
    "## Exercise 4.1.\n",
    "\n",
    "Create a variable and assign it an arbitrary integer (i.e. a rational number). Next, write some code which can print the multiplication table for this number."
   ]
  },
  {
   "cell_type": "code",
   "execution_count": 3,
   "metadata": {},
   "outputs": [
    {
     "name": "stdout",
     "output_type": "stream",
     "text": [
      "1 times 7 is 7.\n",
      "2 times 7 is 14.\n",
      "3 times 7 is 21.\n",
      "4 times 7 is 28.\n",
      "5 times 7 is 35.\n",
      "6 times 7 is 42.\n",
      "7 times 7 is 49.\n",
      "8 times 7 is 56.\n",
      "9 times 7 is 63.\n",
      "10 times 7 is 70.\n"
     ]
    }
   ],
   "source": [
    "number = 7\n",
    "\n",
    "for i in range( 1, 11):\n",
    "    print( f\"{i} times { number } is {i*number }.\" )"
   ]
  },
  {
   "cell_type": "markdown",
   "metadata": {},
   "source": [
    "## Exercise 4.2.\n",
    "\n",
    "Create a variable that can capture the grade received for a university course. Mext, write some code which can determine whether or not the grade is at a pass level (i.e. higher or lower than 5.5).  "
   ]
  },
  {
   "cell_type": "code",
   "execution_count": 2,
   "metadata": {},
   "outputs": [
    {
     "name": "stdout",
     "output_type": "stream",
     "text": [
      "This grade is at a pass level\n"
     ]
    }
   ],
   "source": [
    "grade = 7.5\n",
    "\n",
    "if grade >= 5.5:\n",
    "    print('This grade is at a pass level')\n",
    "else:\n",
    "    print('This grade is insufficient.')"
   ]
  },
  {
   "cell_type": "markdown",
   "metadata": {},
   "source": [
    "## Exercise 4.3.\n",
    "\n",
    "Write code which can give information about the century a given year is in. Given the year 1767, for instance, the application must be able to print the following sentence: “The year 1767 is in the eighteenth century”. Limit your algorithm to years in between 1500 and 2010. \n",
    "Note that it is possible to combine two different Boolean expressions using the word ‘and’."
   ]
  },
  {
   "cell_type": "code",
   "execution_count": 1,
   "metadata": {},
   "outputs": [
    {
     "name": "stdout",
     "output_type": "stream",
     "text": [
      "the year 1767is in: \n",
      "The eighteenth century\n"
     ]
    }
   ],
   "source": [
    "year = 1767\n",
    "\n",
    "print( f\"The year {year} is in: \" )\n",
    "\n",
    "if year >= 1500 and year < 1600:\n",
    "    print(\"The sixteenth century\")\n",
    "elif year >= 1600 and year < 1700:\n",
    "    print(\"The seventeenth century\")\n",
    "elif year >= 1700 and year < 1800:\n",
    "    print(\"The eighteenth century\")\n",
    "elif year >= 1800 and year < 1900:\n",
    "    print(\"The nineteenth century\")\n",
    "else:\n",
    "    print(\"The twentienth century\")"
   ]
  }
 ],
 "metadata": {
  "kernelspec": {
   "display_name": "Python 3",
   "language": "python",
   "name": "python3"
  },
  "language_info": {
   "codemirror_mode": {
    "name": "ipython",
    "version": 3
   },
   "file_extension": ".py",
   "mimetype": "text/x-python",
   "name": "python",
   "nbconvert_exporter": "python",
   "pygments_lexer": "ipython3",
   "version": "3.7.6"
  }
 },
 "nbformat": 4,
 "nbformat_minor": 2
}
