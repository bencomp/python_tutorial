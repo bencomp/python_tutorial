{
 "cells": [
  {
   "cell_type": "markdown",
   "metadata": {},
   "source": [
    "# 12. Visualisation"
   ]
  },
  {
   "cell_type": "markdown",
   "metadata": {},
   "source": [
    "## Exercise 12.1\n",
    "\n",
    "In exercise 11.3, you created a CSV file named 'prices_of_coffee_over_time.csv', containing data about the average price of a pound of coffee on a range of dates. Use this CSV file to create a line chart which visualises the development of these prices over time. "
   ]
  },
  {
   "cell_type": "code",
   "execution_count": null,
   "metadata": {},
   "outputs": [],
   "source": [
    "import pandas as pd\n",
    "\n",
    "df = pd.read_csv('prices_of_coffee_over_time.csv')\n",
    "\n",
    "df = df.sort_values(by=['date'])\n",
    "\n",
    "%matplotlib inline\n",
    "\n",
    "import matplotlib.pyplot as plt\n",
    "\n",
    "plt.style.use('ggplot')\n",
    "\n",
    "fig = plt.figure( figsize = ( 16, 4))\n",
    "ax = plt.axes()\n",
    "\n",
    "ax.plot( df['date'] , df['price_per_pound'] , color = '#930d08' , linestyle = 'solid')\n",
    "\n",
    "ax.set_xlabel('Date')\n",
    "ax.set_ylabel('Price per pound')\n",
    "\n",
    "plt.xticks(rotation= 90)\n",
    "\n",
    "ax.set_title( 'VOC Coffee auctions')\n",
    "\n",
    "plt.show()"
   ]
  },
  {
   "cell_type": "markdown",
   "metadata": {},
   "source": [
    "## Exercise 12.2\n",
    "\n",
    "Download the following data set:\n",
    "\n",
    "https://edu.nl/bcm4x\n",
    "\n",
    "This file contains data collected for the [2018 Better Life Index](https://stats.oecd.org/index.aspx?DataSetCode=BLI), which was created by the OECD to visuale some of the key factors  that contribute to well-being in OECD countries, including education, income, housing and environment.\n",
    "\n",
    "Using this data set, create a bar chart which can be used to compare either the 'personal_earnings' or the 'life_satisfaction' in OECD countries. "
   ]
  },
  {
   "cell_type": "code",
   "execution_count": null,
   "metadata": {},
   "outputs": [],
   "source": [
    "import pandas as pd\n",
    "\n",
    "df = pd.read_csv('bli.csv')\n",
    "df = df.dropna(subset = [ 'personal_earnings' ])\n",
    "\n",
    "\n",
    "colours = [ '#DD7373' , '#3B3561' , '#EAD94C' , '#9E1946' , '#c9c4b5'  ]\n",
    "classColours = dict()\n",
    "\n",
    "unique_categories = list( set( df['continent'] ) )\n",
    "if len( unique_categories ) <= len(colours):\n",
    "    for u in range( len( unique_categories ) ):\n",
    "        classColours[ unique_categories[u] ] = colours[u]\n",
    "else:\n",
    "    print(\"You have more than {} categories. You need to add colours to the list!\".format( len(colours) ))\n",
    "\n",
    "colours = []\n",
    "for category in df['continent']:\n",
    "    colours.append( classColours[category] )\n",
    "    \n",
    "\n",
    "%matplotlib inline\n",
    "\n",
    "import matplotlib.pyplot as plt\n",
    "import matplotlib.patches as mpatches\n",
    "import pandas as pd\n",
    "\n",
    "y_axis = 'personal_earnings'\n",
    "\n",
    "\n",
    "fig = plt.figure( figsize=( 14 , 10 ) )\n",
    "ax = plt.axes()\n",
    "\n",
    "\n",
    "bar_width = 0.45\n",
    "opacity = 0.8\n",
    "\n",
    "ax.bar( df['country'] , df[y_axis] , width = bar_width, alpha = opacity , color = colours)\n",
    "\n",
    "plt.xticks(rotation= 90)\n",
    "\n",
    "\n",
    "patchList = []\n",
    "for key in classColours:\n",
    "    data_key = mpatches.Patch(color=classColours[key], label=key)\n",
    "    patchList.append(data_key)\n",
    "    \n",
    "plt.legend(handles=patchList , shadow=True, fontsize='large' , frameon = True )\n",
    "#plt.ylim(0, 10)\n",
    "\n",
    "ax.set_xlabel('Countries' , fontsize= 12)\n",
    "ax.set_ylabel( y_axis , fontsize = 12 )\n",
    "ax.set_title( y_axis , fontsize=20 )\n",
    "\n",
    "\n",
    "plt.show()"
   ]
  },
  {
   "cell_type": "markdown",
   "metadata": {},
   "source": [
    "Using seaborn, the bar chart can be created as follows."
   ]
  },
  {
   "cell_type": "code",
   "execution_count": null,
   "metadata": {},
   "outputs": [],
   "source": [
    "import pandas as pd\n",
    "import matplotlib.pyplot as plt\n",
    "import seaborn as sns\n",
    "\n",
    "colours = [ '#DD7373' , '#c9c4b5' , '#3B3561' , '#EAD94C' , '#9E1946'  , '#51A3A3'  ]\n",
    "\n",
    "## and also adds spacing in between the lines of the legend \n",
    "sns.set(style='whitegrid', rc = {'legend.labelspacing': 1})\n",
    "\n",
    "\n",
    "df = pd.read_csv('bli.csv')\n",
    "df = df.dropna(subset = [ 'personal_earnings' ])\n",
    "\n",
    "fig = plt.figure( figsize=( 14 , 10 ) )\n",
    "\n",
    "ax = sns.barplot( x = 'country' , y= 'personal_earnings' , data =  df , hue = 'continent' , dodge=False , palette = colours )\n",
    "\n",
    "plt.xticks(rotation= 90)\n",
    "\n",
    "# this next line makes sure that the legend is shown outside of the graph\n",
    "plt.legend(bbox_to_anchor=(1.05, 1), loc=2, borderaxespad=0.);"
   ]
  },
  {
   "cell_type": "markdown",
   "metadata": {},
   "source": [
    "## Exercise 12.3\n",
    "\n",
    "Using the CSV file that you have downloaded for exercise in 12.2 to create a scatter plot. The X-axis must visualise the values in the column 'self-reported_health', and the Y-axis must show the 'employment_rate'. The size of the points must represent the 'educational_attainment' and the colour of the points ust indicate the 'air_pollution'. \n",
    "\n",
    "N.B. Names of exiting colour palettes can be found at [https://python-graph-gallery.com/101-make-a-color-palette-with-seaborn/](https://python-graph-gallery.com/101-make-a-color-palette-with-seaborn/) or at [https://chrisalbon.com/python/data_visualization/seaborn_color_palettes/](https://chrisalbon.com/python/data_visualization/seaborn_color_palettes/). Examples include: \"Blues\", \"BuGn\", \"YlOrRd\", \"GnBu\", \"OrRd\", \"Greens\", \"Reds\"."
   ]
  },
  {
   "cell_type": "code",
   "execution_count": null,
   "metadata": {},
   "outputs": [],
   "source": [
    "import pandas as pd\n",
    "df = pd.read_csv('bli.csv')\n",
    "\n",
    "import matplotlib.pyplot as plt\n",
    "\n",
    "plt.style.use('seaborn-whitegrid')\n",
    "\n",
    "x_axis = 'self-reported_health'\n",
    "y_axis =  'employment_rate'\n",
    "point_size =  'educational_attainment'\n",
    "point_colour =  'air_pollution'\n",
    "\n",
    "\n",
    "df = df.dropna(subset = [x_axis, y_axis])\n",
    "\n",
    "#air_pollution,water_quality\n",
    "fig = plt.figure( figsize = ( 10,10 ))\n",
    "ax = plt.axes()\n",
    "\n",
    "\n",
    "scatter = ax.scatter( df[x_axis] , df[y_axis] , alpha=0.8,  s= df[point_size] * 10  , c = df[point_colour] * 10, cmap='Reds' )\n",
    "\n",
    "\n",
    "for index, row in df.iterrows():\n",
    "    plt.text( row[x_axis], row[y_axis] , row['country'] , fontsize=12.8)\n",
    "    \n",
    "\n",
    "ax.set_xlabel( x_axis  , fontsize = 16 )\n",
    "ax.set_ylabel( y_axis  , fontsize = 16 )\n",
    "ax.set_title( 'OECD Better Life Index' , fontsize=24 )\n",
    "\n",
    "\n",
    "plt.show()"
   ]
  },
  {
   "cell_type": "markdown",
   "metadata": {},
   "source": [
    "Using seaborn:"
   ]
  },
  {
   "cell_type": "code",
   "execution_count": null,
   "metadata": {},
   "outputs": [],
   "source": [
    "import pandas as pd\n",
    "import matplotlib.pyplot as plt\n",
    "import seaborn as sns\n",
    "\n",
    "df = pd.read_csv('bli.csv')\n",
    "df = df.dropna(subset = [x_axis, y_axis])\n",
    "\n",
    "fig = plt.figure( figsize = ( 10,10 ))\n",
    "\n",
    "plt.style.use('seaborn-whitegrid')\n",
    "\n",
    "x_axis = 'self-reported_health'\n",
    "y_axis =  'employment_rate'\n",
    "point_size =  'educational_attainment'\n",
    "point_colour = 'air_pollution' \n",
    "\n",
    "## and also adds spacing in between the lines of the legend \n",
    "sns.set(style='whitegrid', rc = {'legend.labelspacing': 1.6})\n",
    "\n",
    "\n",
    "ax = sns.scatterplot(x = x_axis , y = y_axis  , data=df, hue= point_colour , palette=\"Greens\" , size = point_size , sizes=( 100 , 1000) )\n",
    "\n",
    "for index, row in df.iterrows():\n",
    "    plt.text( row[x_axis], row[y_axis] , row['country'] , fontsize=12.8)\n",
    "\n",
    "\n",
    "ax.set_xlabel( 'Self reported health'  , fontsize = 16 )\n",
    "ax.set_ylabel( 'Employment rate'  , fontsize = 16 )\n",
    "ax.set_title( 'OECD Better Life Index' , fontsize=24 )\n",
    "\n",
    "\n",
    "\n",
    "# this next line makes sure that the legend is shown outside of the graph\n",
    "plt.legend(bbox_to_anchor=(1.05, 1), loc=2, borderaxespad=0.);\n"
   ]
  },
  {
   "cell_type": "markdown",
   "metadata": {},
   "source": [
    "## Exercise 12.4\n",
    "\n",
    "PISA is the OECD's [Programme for International Student Assessment](https://www.oecd.org/pisa/). This programme evaluates educational systems globally by measuring the performance of 15 year-old-children in mathematics, science and reading. The latest study is from 2018. \n",
    "\n",
    "The CSV file '[pisa.csv](https://edu.nl/p97ma)' contains all the scores measured for mathematics and reading in between 2000 and 2018.  \n",
    "\n",
    "Using Pandas, Matplotlib and Seaborn, create visualisations which can help to answer the following questions:\n",
    "\n",
    "1. How did the various countries that were examined in 2018 perform? Which contries had the highest scores, and which countries had the lowest scores? How did the score of the Netherlands compare to those of other countries? You can limit the analyses to the the 'total' scores (i.e. those records in which column 'object' has value 'TOT'). \n",
    "\n",
    "2. Were the scores for reading correlated to the scores for mathematics in 2018? Answer this question by creating a scatter plot. \n",
    "\n",
    "3. How did the scores for reading develop in the Netherlands in between 2000 and 2018? Focus on the score for boys and for girls separately. \n",
    "\n",
    "4. Have the scores remained relatively stable over the years if we look at the total scores? Or has there been some variation? How does the variation of the scores for the Netherlands compare to the scores in France, Germany, Belgium and Luxembourg? Try to answer this question by crearing a boxplot. "
   ]
  },
  {
   "cell_type": "markdown",
   "metadata": {},
   "source": [
    "Firstly, download the CSV file and read its contents using `read_csv` method from pandas. "
   ]
  },
  {
   "cell_type": "code",
   "execution_count": null,
   "metadata": {},
   "outputs": [],
   "source": [
    "import pandas as pd\n",
    "\n",
    "df = pd.read_csv('pisa.csv')\n"
   ]
  },
  {
   "cell_type": "markdown",
   "metadata": {},
   "source": [
    "Next, create a new data frame containing the total scores measured in the year 2018. We can 'subset' the dataframe using square brackets. These brackets should contain a criterium that can serve as a filter.  \n",
    "\n",
    "the `sort_values()` method can be used to place all the rows oif the data frame in a certain order. "
   ]
  },
  {
   "cell_type": "code",
   "execution_count": null,
   "metadata": {},
   "outputs": [],
   "source": [
    "df_2018 = df[ df['subject'] == 'TOT' ]\n",
    "df_2018 = df_2018[ df_2018['year'] == 2018 ]\n",
    "\n",
    "df_2018 = df_2018.sort_values('pisa_read')"
   ]
  },
  {
   "cell_type": "markdown",
   "metadata": {},
   "source": [
    "Next, we can plot the values in this new data frame using `Seaborn`. "
   ]
  },
  {
   "cell_type": "code",
   "execution_count": null,
   "metadata": {},
   "outputs": [],
   "source": [
    "import matplotlib.pyplot as plt\n",
    "import seaborn as sns\n",
    "\n",
    "%matplotlib inline\n",
    "\n",
    "sns.set_style('darkgrid')\n",
    "plt.figure( figsize = ( 10,7 ))\n",
    "\n",
    "# The parameter 'x' specifies the values that will \n",
    "# be shown on the X-axis\n",
    "# The parameter 'y' specifies the values that will \n",
    "# be shown on the Y-axis\n",
    "## 'hue' determines the colours of the bars. It can be \n",
    "# connected to one of the variables in the\n",
    "# data frame\n",
    "\n",
    "\n",
    "sns.barplot( data = df_2018 , x = 'location_name' , y = 'pisa_read' , hue = 'continent' , dodge = False  , ci = None)\n",
    "\n",
    "plt.legend( bbox_to_anchor=(1.05, 1), loc=2, borderaxespad=0.)\n",
    "plt.xticks( rotation = 90 )\n",
    "\n",
    "plt.show() \n"
   ]
  },
  {
   "cell_type": "markdown",
   "metadata": {},
   "source": [
    "To examine the correlation between `pisa_read` and `pisa_math`, we can visualise these two variables using a scatter plot. "
   ]
  },
  {
   "cell_type": "code",
   "execution_count": null,
   "metadata": {},
   "outputs": [],
   "source": [
    "import pandas as pd\n",
    "\n",
    "import matplotlib.pyplot as plt\n",
    "import seaborn as sns\n",
    "\n",
    "\n",
    "plt.figure( figsize = ( 6,6 ))\n",
    "\n",
    "\n",
    "sns.set(style='whitegrid', rc = {'legend.labelspacing': 0.6})\n",
    "\n",
    "sns.scatterplot(x = 'pisa_read' , y = 'pisa_math' , \n",
    "                data = df_2018 , hue = 'continent' , s = 100 ) \n",
    "\n",
    "## The next few lines demonstrate the code tha\n",
    "# can be used to annotate a plot. \n",
    "# You can place text on the plot using `plt.text()`\n",
    "# The code below only labels the dot that represents the Netherlands\n",
    "\n",
    "country = 'Netherlands'\n",
    "nl = df_2018[ df_2018['location_name'] == country ] \n",
    "plt.text( int ( nl['pisa_read'] ) -20, int ( nl['pisa_math'] ) +3 , country , size = '14', alpha=0.9 )\n",
    "\n",
    "        \n",
    "# this next line makes sure that the legend is shown outside of the graph\n",
    "plt.legend(bbox_to_anchor=(1.05, 1), loc=2, borderaxespad=0.);\n",
    "\n",
    "plt.savefig('scatter.jpg')\n",
    "\n"
   ]
  },
  {
   "cell_type": "markdown",
   "metadata": {},
   "source": [
    "The code below creates a new data frame, based on the original data frame that was created out of the original CSV file. It firstly select the rows in which the `subject` column either has 'BOY' or 'GIRL' as a value. The second line selects the scores for the Netherlands. "
   ]
  },
  {
   "cell_type": "code",
   "execution_count": null,
   "metadata": {},
   "outputs": [],
   "source": [
    "df_nl = df[ df['subject'].isin( ['BOY','GIRL']  ) ]\n",
    "df_nl = df_nl[ df_nl['location_name'] == 'Netherlands' ]"
   ]
  },
  {
   "cell_type": "markdown",
   "metadata": {},
   "source": [
    "The newly created dataframe `df_nl` now contains all the values for Dutch boys and girls, measured in between 2000 and 2018. These values can be plotted as a line chart, using the `lineplot()` method in `Seaborn`. When you add a parameter named `hue`, pointing to one of the variables in the dataframe, different lines will be drawn for all the unique values in this particular column. "
   ]
  },
  {
   "cell_type": "code",
   "execution_count": null,
   "metadata": {},
   "outputs": [],
   "source": [
    "%matplotlib inline\n",
    "\n",
    "import matplotlib.pyplot as plt\n",
    "import seaborn as sns\n",
    "import pandas as pd\n",
    "\n",
    "plt.figure( figsize = ( 6,4 ))\n",
    "ax = plt.axes()\n",
    "\n",
    "\n",
    "\n",
    "df_nl = df[ df['location_name'] == 'Netherlands' ]\n",
    "\n",
    "\n",
    "\n",
    "#plt.style.use('seaborn-whitegrid')\n",
    "\n",
    "sns.lineplot( data = df_nl , x = 'year' , y = 'pisa_math' ,  hue = 'subject' , palette = [ '#078217' , '#f5ce4e' , '#3242a8'] ,  linewidth = 3 )\n",
    "\n",
    "sns.set(style='whitegrid', rc = {'legend.labelspacing': 1})\n",
    "\n",
    "# this next line makes sure that the legend is shown outside of the graph\n",
    "plt.legend(bbox_to_anchor=(1.05, 1), loc=2, borderaxespad=0.);\n",
    "\n",
    "\n",
    "ax.set_xlabel('Years' , size = 16 )\n",
    "ax.set_ylabel('Scores for reading performance' , size = 16 )\n",
    "ax.set_title( 'PISA scores in the Netherlands' , size = 28 )\n",
    "\n",
    "\n",
    "plt.savefig('math.png')"
   ]
  },
  {
   "cell_type": "markdown",
   "metadata": {},
   "source": [
    "A box plot can be created using the `boxplot()` function."
   ]
  },
  {
   "cell_type": "code",
   "execution_count": null,
   "metadata": {},
   "outputs": [],
   "source": [
    "%matplotlib inline\n",
    "\n",
    "colours = [  '#a88732' ,  '#265c28' , '#a0061a' ,  '#431670' ]\n",
    "\n",
    "countries = [ 'Netherlands', 'France' , 'Germany' , 'Belgium', 'Luxembourg']\n",
    "df_countries = df[ df['location_name'].isin(countries) ]\n",
    "\n",
    "import matplotlib.pyplot as plt\n",
    "import seaborn as sns\n",
    "\n",
    "sns.boxplot(data= df_countries , x = 'location_name' , y = 'pisa_math' , palette = colours  );"
   ]
  }
 ],
 "metadata": {
  "kernelspec": {
   "display_name": "Python 3",
   "language": "python",
   "name": "python3"
  },
  "language_info": {
   "codemirror_mode": {
    "name": "ipython",
    "version": 3
   },
   "file_extension": ".py",
   "mimetype": "text/x-python",
   "name": "python",
   "nbconvert_exporter": "python",
   "pygments_lexer": "ipython3",
   "version": "3.7.4"
  }
 },
 "nbformat": 4,
 "nbformat_minor": 2
}
