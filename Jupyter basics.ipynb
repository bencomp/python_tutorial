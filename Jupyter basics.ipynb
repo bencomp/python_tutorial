{
 "cells": [
  {
   "cell_type": "markdown",
   "metadata": {},
   "source": [
    "# Introduction to Jupyter Notebook\n",
    "\n"
   ]
  },
  {
   "cell_type": "markdown",
   "metadata": {},
   "source": [
    "Jupyter Notebook is an open-source web application that allows you to create and share documents that contain live code, equations, visualizations and narrative text. Using Jupyter Notebook you can create human-readable documents containing the description of the code, the code itself and the results of executing the code, all together in one place. \n",
    "\n",
    "### Cells\n",
    "A Jupyter Notebook consists of smaller units called <i>cells</i>. There are two main types of cells: Code cells and Markdown (text) cells. \n",
    "\n",
    "* A Code cell contains code to be executed in the Python kernel and displays its output below the cell.\n",
    "* A Markdown cell contains plain text (similar to text in a Word document).\n"
   ]
  },
  {
   "cell_type": "markdown",
   "metadata": {},
   "source": [
    "Example 1: This is a Markdown cell !"
   ]
  },
  {
   "cell_type": "code",
   "execution_count": null,
   "metadata": {},
   "outputs": [],
   "source": [
    "# Example 2: This is a Code cell\n",
    "print(5+4)"
   ]
  },
  {
   "cell_type": "markdown",
   "metadata": {},
   "source": [
    "You can recognize a code cell by the label <code><span style=\"color:blue\">In [ ]:</span></code> on its left. When the code cell is running the code the label changes to <code><span style=\"color:blue\">In [\\*]:</span></code> and when it has finished running a number is shown between the brackets.   "
   ]
  },
  {
   "cell_type": "markdown",
   "metadata": {},
   "source": [
    "<div class=\"alert alert-block alert-info\">\n",
    "    <h4>Exercise 1 Editing and running cells</h4>\n",
    "\n",
    "a) Change the text in the Markdown cell that contains \"Example 1: This is a Markdown cell !\" above. Follow these steps:\n",
    "1. Click on the cell.  (A green or blue border should appear around it.)\n",
    "2. Remove the exclamation mark\n",
    "3. Click <code><i class=\"fa-step-forward fa\"></i> Run</code> (<code><i class=\"fa-step-forward fa\"></i> Run</code> is located in the Toolbar below the Menu bar.)    \n",
    "  \n",
    "b) Click on the cell that contains Example 2\n",
    "    \n",
    "c) Click <code><i class=\"fa-step-forward fa\"></i> Run</code> to run the code and check the output\n",
    "   \n",
    "    \n",
    "d) Now edit Example 2 by clicking on the cell and replacing the plus sign by a minus sign. Again click <code><i class=\"fa-step-forward fa\"></i> Run</code> to run the code and check how the output of the cell changes.  \n",
    "    <i>Optional:</i>     \n",
    "    e) The shortcut for running a cell is <code>Ctrl+Enter</code>. Change the sum in Example 2 again and run the cell using this shortcut.  \n",
    "</div>"
   ]
  },
  {
   "cell_type": "markdown",
   "metadata": {},
   "source": [
    "Next to editing already existing cells, you can also add new ones. To add a new cell, you need to go to Menu bar and click <code>Insert</code>. From a drop down menu you can choose <code>Insert Cell Above</code> or <code>Insert Cell Below</code>. Newly added cell will automatically be a Code cell. If you want to change it to a Markdown type, you can do it in a Toolbar by clicking on <code>Code      <i class=\"fa-angle-down fa\"></i></code> and using the dropdown menu to select <code>Markdown</code>."
   ]
  },
  {
   "cell_type": "markdown",
   "metadata": {},
   "source": [
    "<div class=\"alert alert-block alert-info\">\n",
    "<h4>Exercise 2 Adding cells</h4>\n",
    "\n",
    "a) Add a new Code cell:  \n",
    "1. Click on the cell below that says \"Click on this cell to insert a new cell below it\"\n",
    "2. In the menu bar go to <code>Insert</code> -> <code>Insert Cell Below</code>   \n",
    "    \n",
    "b) Change the type of the new cell to Markdown\n",
    "1. Click on your newly created cell \n",
    "2. In the toolbar click <code>Code      <i class=\"fa-angle-down fa\"></i></code> and use the dropdown menu to select <code>Markdown</code>. Notice how the  <code><span style=\"color:blue\">In [ ]:</span></code> label disappears.\n",
    "\n",
    "</div>"
   ]
  },
  {
   "cell_type": "code",
   "execution_count": 2,
   "metadata": {},
   "outputs": [],
   "source": [
    "# Click on this cell to insert a new cell below it"
   ]
  },
  {
   "cell_type": "markdown",
   "metadata": {},
   "source": [
    "To delete a cell, you first need to select a cell by clicking on it. After that, go to menu, click on  <code>Edit</code> and choose <code>Delete Cells</code> option."
   ]
  },
  {
   "cell_type": "markdown",
   "metadata": {},
   "source": [
    "<div class=\"alert alert-block alert-info\">\n",
    "<h4>Exercise 3 Deleting cells</h4>\n",
    "\n",
    "1. Select a cell created in Exercise 2b. Does it have a green or blue border? If not, click it again.\n",
    "2. In the menu: Go to <code>Edit</code> -> <code>Delete Cells</code>. This deletes all cells that are currently selected.\n",
    "</div>"
   ]
  },
  {
   "cell_type": "markdown",
   "metadata": {},
   "source": [
    "<div class=\"alert alert-block alert-info\">\n",
    "<h4><i>Optional:</i> Exercise 4 Adding and deleting cells using shortcuts</h4>\n",
    "\n",
    "Shortcuts are used to work more efficiently with cells in Jupyter Notebooks. It is not necessary to use them, but knowing them can speed up your programming work in Jupyter.\n",
    "    \n",
    "a) Add a new Code cell below this cell:  \n",
    "1. Click on this cell and then press <code>Esc</code> on the keyboard. The border of this cell should turn blue.\n",
    "2. Press <code>B</code> on the keyboard. <code>B</code> is the shortcut for <code>Insert Cell Below</code>. Similarly, <code>A</code> is the shortcut for <code>Insert Cell Above</code>. \n",
    "    \n",
    "b) Change the type of the new cell to Markdown\n",
    "1. Check that the border of the new cell is still blue. If not, select it and press the <code>Esc</code> key.  \n",
    "2. Press the <code>M</code> key on the keyboard. <code>M</code> is the shortcut for changing the cell type to Markdown.\n",
    "3. Press the <code>Y</code> key on the keyboard to change the cell type back to Code.     \n",
    "    \n",
    "c) Delete the cell\n",
    "1. Check that your cell is still selected. Does it have a green or blue border? If it has a green border, press <code>Esc</code> again.\n",
    "2. Press the <code>D</code> key _twice_. This is the shortcut for deleting the selected cells.\n",
    "</div>"
   ]
  },
  {
   "cell_type": "markdown",
   "metadata": {},
   "source": [
    "Great work!"
   ]
  }
 ],
 "metadata": {
  "kernelspec": {
   "display_name": "Python 3",
   "language": "python",
   "name": "python3"
  },
  "language_info": {
   "codemirror_mode": {
    "name": "ipython",
    "version": 3
   },
   "file_extension": ".py",
   "mimetype": "text/x-python",
   "name": "python",
   "nbconvert_exporter": "python",
   "pygments_lexer": "ipython3",
   "version": "3.7.6"
  }
 },
 "nbformat": 4,
 "nbformat_minor": 4
}
