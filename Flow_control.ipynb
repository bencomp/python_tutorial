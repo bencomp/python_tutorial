{
 "cells": [
  {
   "cell_type": "markdown",
   "metadata": {},
   "source": [
    "< [Working_with_strings](Working_with_strings.html) | [Table of contents](index.html) | [Lists](Lists.html) >\n"
   ]
  },
  {
   "cell_type": "markdown",
   "metadata": {},
   "source": [
    "# 4. Flow control"
   ]
  },
  {
   "cell_type": "markdown",
   "metadata": {},
   "source": [
    "\n",
    "By default, Python moves through the code in a linear way. It simply executes all the statements in the order in which they are found in the programme. In some cases, however, a statement only needs to be performed under a certain condition. In other situations, statements may need to be repeated as long as a certain condition applies. \n",
    "\n",
    "Flow control is the process of determining how often, or under which circumstances, a certain set of statement needs to be executed. In Python, there are various keywords that you can use to specify if, or how many times, a statement needs to be executed. \n"
   ]
  },
  {
   "cell_type": "markdown",
   "metadata": {},
   "source": [
    "\n",
    "## Selection\n",
    "\n",
    "\n",
    "To make sure that a certain section of your program is executed only if a certain condition is true, you can use the keyword `if`. When the expression following `if` is indeed true, the statements underneath the expression are executed. If not, these statements are ignored. The listing below offers an example:"
   ]
  },
  {
   "cell_type": "code",
   "execution_count": null,
   "metadata": {},
   "outputs": [],
   "source": [
    "number = 25\n",
    "\n",
    "if number > 20:\n",
    "    print(\"The number is higher than 20!\")\n"
   ]
  },
  {
   "cell_type": "markdown",
   "metadata": {},
   "source": [
    "Importantly, the spatial layout of the code is not arbitrary. The block of code that must be executed when the condition is true is indented using four spaces. In most code editors, the indentation that is created when you hit the tab button has exactly the length of four spaces. The statements that have the same indentation are all assumed to belong to the same block of code.\n",
    "\n",
    "The exampe that was given only contains one condition. It is also possible, however, to let Python evaluate a series of conditions. In this case, you need to use the keywords `if`, `elif` and `else`. An example can be seen below.\n"
   ]
  },
  {
   "cell_type": "code",
   "execution_count": null,
   "metadata": {},
   "outputs": [],
   "source": [
    "time = 22\n",
    "\n",
    "if time < 12:\n",
    "    print('Good morning!')\n",
    "elif time < 18:\n",
    "    print('Good afternoon!')\n",
    "else:\n",
    "    print('Good evening')\n"
   ]
  },
  {
   "cell_type": "markdown",
   "metadata": {},
   "source": [
    "If the condition that follows the `if` keyword can be evaluated as 'True', the first code block will be executed. If not, the condition that is given after `elif` will be evaluated. Python will execute the second block of code if that second condition is found to be 'True'. The final set of statements will be executed only if all the two earlier conditions are evaluated as 'False'. \n",
    "\n",
    "Note that only the keywords `if` and `elif` can be followed by a condition. The keyword `else` always appears WITHOUT such a condition. The code block given after else contains the actions that must be performed if all the earlier conditions are false. \n",
    "\n",
    "Importantly, the lines starting with `if`, `elif` and `else` all end in a colon.  \n"
   ]
  },
  {
   "cell_type": "markdown",
   "metadata": {},
   "source": [
    "# Iteration\n",
    "\n",
    "Next to the flow structures for selection, there are also flow control structures that can be used for repetitions of statements. Such repetitions are generally referred to as iterations. In Python, you can specify the number of times a set of statements need to be repeated by making use of ‘while’ or ‘for’. As is the case for ‘if’, the ‘while’ keyword should be followed by a test, or, more precisely, by a Boolean expression. \n",
    "\n",
    "The ‘while’ keyword initiates a loop. The statements that follow ‘while’ will be repeated as long as the expression is true. Clearly, it is necessary to ensure that the expression can also be evaluated to ‘false’ at some point, since the repetition will otherwise continue endlessly. The variable that can end the loop is called the iteration value. \n",
    "\n",
    "The code below prints the multiplication table for the number 7. In the code below, the number of repetitions are counted using variable named `i`. This variable captures the iteration value. The value of this variable is incremented with te value 1 in each repetition, using the `+=` operator. The loop will terminate after the variable `i` has reached the value 11. \n"
   ]
  },
  {
   "cell_type": "code",
   "execution_count": null,
   "metadata": {},
   "outputs": [],
   "source": [
    "number = 7\n",
    "\n",
    "i = 1\n",
    "\n",
    "while i <= 10:\n",
    "    print( f\"{ i } times { number } is { i*number }.\" )\n",
    "    i += 1\n"
   ]
  },
  {
   "cell_type": "markdown",
   "metadata": {},
   "source": [
    "The same algorithm can be implemented using the `for` keyword. This keyword can be used in combination with the `range()` function, for instance, which can be used to generate a list of numbers. When this `range()` function is used with two integers, the function starts the list with the number which is mentioned first and it continues to add integers, as long as the value of these numbers is less than the number which is mentioned secondly. When you use range( 1, 11 ), for instance, this results in a list of integers ranging from 1 up and until 10, but not including 11. \n",
    "\n",
    "The line `for i in range( 1 , 11 )`, in the code below, starts a sequence of 10 loops. The code block below the `for` keyword will be repeaded 10 times. \n",
    "\n",
    "In the code block underneath the line starting with `for`, the variable `i` is assigned a different value during each of these iterations. It will receive the value 1 during the first loop, 2 during the second loop, and so on, as long as the value of i is less than 11."
   ]
  },
  {
   "cell_type": "code",
   "execution_count": null,
   "metadata": {},
   "outputs": [],
   "source": [
    "number = 8\n",
    "i = 1\n",
    "\n",
    "for i in range(1,11):\n",
    "    print( f\"{ i } times { number } is { i*number }.\" )\n",
    "    i += 1"
   ]
  },
  {
   "cell_type": "markdown",
   "metadata": {},
   "source": [
    "Remember that statements that follow lines starting with `if`, `elif`, `else`, `for` and `while` all need to be indented. "
   ]
  },
  {
   "cell_type": "markdown",
   "metadata": {},
   "source": [
    "# Exercises"
   ]
  },
  {
   "cell_type": "markdown",
   "metadata": {},
   "source": [
    "## Exercise 4.1.\n",
    "\n",
    "Create a variable and assign it an arbitrary integer (i.e. a rational number). Next, write some code which can print the multiplication table for this number."
   ]
  },
  {
   "cell_type": "code",
   "execution_count": null,
   "metadata": {},
   "outputs": [],
   "source": [
    "# Declare a number\n",
    "\n",
    "\n",
    "# Print the multiplication table"
   ]
  },
  {
   "cell_type": "markdown",
   "metadata": {},
   "source": [
    "## Exercise 4.2.\n",
    "\n",
    "Create a variable that can capture the grade received for a university course. Mext, write some code which can determine whether or not the grade is at a pass level (i.e. higher or lower than 5.5).  "
   ]
  },
  {
   "cell_type": "code",
   "execution_count": null,
   "metadata": {},
   "outputs": [],
   "source": []
  },
  {
   "cell_type": "markdown",
   "metadata": {},
   "source": [
    "## Exercise 4.3.\n",
    "\n",
    "Write code which can give information about the century a given year is in. Given the year 1767, for instance, the application must be able to print the following sentence: “The year 1767 is in the eighteenth century”. Limit your algorithm to years in between 1500 and 2010. \n",
    "Note that it is possible to combine two different Boolean expressions using the word ‘and’."
   ]
  },
  {
   "cell_type": "code",
   "execution_count": null,
   "metadata": {},
   "outputs": [],
   "source": [
    "year = 1767\n",
    "\n",
    "# Add your code below"
   ]
  },
  {
   "cell_type": "markdown",
   "metadata": {},
   "source": [
    "\n",
    "\n",
    "\n",
    "< [Working_with_strings](Working_with_strings.html) | [Table of contents](index.html) | [Lists](Lists.html) >"
   ]
  },
  {
   "cell_type": "code",
   "execution_count": null,
   "metadata": {},
   "outputs": [],
   "source": []
  }
 ],
 "metadata": {
  "kernelspec": {
   "display_name": "Python 3",
   "language": "python",
   "name": "python3"
  },
  "language_info": {
   "codemirror_mode": {
    "name": "ipython",
    "version": 3
   },
   "file_extension": ".py",
   "mimetype": "text/x-python",
   "name": "python",
   "nbconvert_exporter": "python",
   "pygments_lexer": "ipython3",
   "version": "3.7.6"
  }
 },
 "nbformat": 4,
 "nbformat_minor": 2
}
