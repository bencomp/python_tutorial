{
 "cells": [
  {
   "cell_type": "markdown",
   "metadata": {},
   "source": [
    "# Introduction to Python\n",
    "\n",
    "* [1. Variables and data types](Variables_and_data_types,html)\n",
    "* [2. Operators](Operators.html)\n",
    "* [3. Working with strings](Working_with_strings.html)\n",
    "* [4. Flow control](Flow_control.html)\n",
    "* [5. Lists](Lists.html)\n",
    "* [6. Dictionaries](Dictionaries.html)\n",
    "* [7. Functions, modules and libraries](Functions_modules_and_libraries.html)\n",
    "* [8. Working with files and folders](Working_with_files_and_folders.html)\n",
    "* [9. Regular Expressions](Regular_expressions.html)\n",
    "* [10. Data acquisition](Data_acquisition.html)\n",
    "* [11. Data analysis with Pandas](Pandas.html)\n",
    "* [12. Visualisation](Visualisation.html)"
   ]
  }
 ],
 "metadata": {
  "kernelspec": {
   "display_name": "Python 3",
   "language": "python",
   "name": "python3"
  },
  "language_info": {
   "codemirror_mode": {
    "name": "ipython",
    "version": 3
   },
   "file_extension": ".py",
   "mimetype": "text/x-python",
   "name": "python",
   "nbconvert_exporter": "python",
   "pygments_lexer": "ipython3",
   "version": "3.7.6"
  }
 },
 "nbformat": 4,
 "nbformat_minor": 4
}
