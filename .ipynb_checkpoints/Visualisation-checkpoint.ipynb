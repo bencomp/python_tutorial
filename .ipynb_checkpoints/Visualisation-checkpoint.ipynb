{
 "cells": [
  {
   "cell_type": "markdown",
   "metadata": {},
   "source": [
    "# 12. Data Visualisation \n",
    "\n",
    "Data visualisations such as graphs and diagrams often make it easier for researchers to explore patterns and trends within large data sets, or to identify notable exceptions to the trends that can be observed. \n",
    "\n",
    "During the last number of years, a large number of visualisation libraries have been developed for the Python language. One of the most widely used libraries is `matplotlib`. This tutorial concentrates on three types of visualisations that you can create using matplot: bar charts, line charts and scatter plots. `Matplotlib` is very powerful, but its code can easily get quite complicated. The visualisation library named `seaborn` was built, more or less, as a shell around `matplotlib` and simplifies many of its aspects. This tutorial also explains a number of visualisations that can be created using `seaborn`.\n",
    "\n",
    "\n",
    "## The data to be visualised\n",
    "\n",
    "\n",
    "Data visualisations are obviously based on data. The data to be used in the remainder of this tutorial are created below. The data set contains four columns with numerical data. These have the column names 'A', 'B', 'C' and 'D'. There is also a column called 'class' containing a categorical variable. The column 'year', finally, contains years. "
   ]
  },
  {
   "cell_type": "code",
   "execution_count": 1,
   "metadata": {},
   "outputs": [],
   "source": [
    "import pandas as pd\n",
    "\n",
    "data = [ [12,5,6,12] , \n",
    "[14,11,17,20] , \n",
    "[15,6,8,19] , \n",
    "[17,3,21,5] , \n",
    "[10,9,14,7] , \n",
    "[14,7,8,9] , \n",
    "[6,9,10,14] , \n",
    "[5,8,9,12] , \n",
    "[19,4,6,14] , \n",
    "[11,12,12,15] ] \n",
    "\n",
    "df = pd.DataFrame(data, columns = ['A', 'B' , 'C' , 'D'] ) \n",
    "\n",
    "df['class'] = [ 'Category1' , 'Category1' , 'Category1' , 'Category2' , 'Category2' ,  'Category3' , 'Category3' , 'Category4' , 'Category4' , 'Category4'  ]\n",
    "\n",
    "df['year'] = ( 2000 , 2001, 2002, 2003, 2004, 2005, 2006, 2007, 2008, 2009 )\n"
   ]
  },
  {
   "cell_type": "markdown",
   "metadata": {},
   "source": [
    "Using the `groupby()` function from `pandas`, we can easily divide the existing data frame into groups, based on the categories defined in the column `class`. We can also apply statistical functions, such as `sum()`, to each of these groups. \n",
    "\n",
    "The code below creates a variable (of type `Series`) named `sum_A`. The indexes of this Series contain the various labels of the categories ('Category1', 'Category2', etc.). The values that are connected to these indexes contain the sum of the values in column A, for each of these categories. "
   ]
  },
  {
   "cell_type": "code",
   "execution_count": 2,
   "metadata": {},
   "outputs": [],
   "source": [
    "sum_A = df.groupby( 'class' )['A'].sum()"
   ]
  },
  {
   "cell_type": "markdown",
   "metadata": {},
   "source": [
    "The indexes and the values of this `Series` variable can be printed separately, as follows: "
   ]
  },
  {
   "cell_type": "code",
   "execution_count": 3,
   "metadata": {},
   "outputs": [
    {
     "name": "stdout",
     "output_type": "stream",
     "text": [
      "['Category1', 'Category2', 'Category3', 'Category4']\n",
      "[41, 27, 20, 35]\n"
     ]
    }
   ],
   "source": [
    "print( sum_A.index.tolist() ) \n",
    "print( sum_A.tolist() )"
   ]
  },
  {
   "cell_type": "markdown",
   "metadata": {},
   "source": [
    "These values will be used in the visualisations that are discusses below. "
   ]
  },
  {
   "cell_type": "markdown",
   "metadata": {},
   "source": [
    "\n",
    "# Matplotlib\n",
    "\n",
    "\n",
    "## A bar chart\n",
    "\n",
    "\n",
    "To create a regular bar chart, we need to work with two variables: (1) the values to be shown on the X-axis and (2) the values to be shown on the Y-axis. In this section, we create a bar chart which visualises the sums of all the values in column A, for each of the categories identified in column 'class'. As explained above, we can create a list of all the available categories using `sum_A.index.tolist()`, and the totals of all the values in column 'A', broken down by category, can be retrieved using the code `sum_A.tolist()`. The former values need to be shown on the X-axis and the latter values on the Y-axis."
   ]
  },
  {
   "cell_type": "code",
   "execution_count": 4,
   "metadata": {},
   "outputs": [],
   "source": [
    "x_axis = sum_A.index.tolist()\n",
    "y_axis = sum_A.tolist()"
   ]
  },
  {
   "cell_type": "markdown",
   "metadata": {},
   "source": [
    "To create a plot using the matplotlib library, you firstly need to import matplotlib's ```pyplot``` module. To reduce the amount of typing, the name of the module can be imported under a shorter alias. The code below uses the alias ```plt```."
   ]
  },
  {
   "cell_type": "code",
   "execution_count": 5,
   "metadata": {},
   "outputs": [],
   "source": [
    "import matplotlib.pyplot as plt"
   ]
  },
  {
   "cell_type": "markdown",
   "metadata": {},
   "source": [
    "The ```pyplot``` module is in fact a collection of functions that can be used to change the nature and the appearance of a plot. It is convenient, as a first step, to add a figure and a set of axes to a plot. They can be added as follows."
   ]
  },
  {
   "cell_type": "code",
   "execution_count": 6,
   "metadata": {},
   "outputs": [
    {
     "data": {
      "image/png": "[encoded data removed]",
      "text/plain": [
       "<Figure size 432x288 with 1 Axes>"
      ]
     },
     "metadata": {
      "needs_background": "light"
     },
     "output_type": "display_data"
    }
   ],
   "source": [
    "fig = plt.figure()\n",
    "ax = plt.axes()"
   ]
  },
  {
   "cell_type": "markdown",
   "metadata": {},
   "source": [
    "A figure can be thought of as an empty canvas on which you can place your diagrams. Axes, secondly, is a class which consists of a combination of an X-axis and a Y-axis. These axes also includes the ticks and the labels for these ticks. All the data that you need for your visualization will be placed on these axes. \n",
    "\n",
    "As is demonstarted below, the size of the plot can be changes by working with the figsize parameter in ```figure()```. This parameter demands two numbers, given in parentheses. These two numbers specify the width and the height of the figure, respectively. \n",
    " \n",
    "Creating a bar chart is fairly straightforward. To do this, you can make use of the ```bar()``` method of Axes. At a minimum, the method demands two parameters: the values that need to be shown on the X-axis, and the values that need to be shown on the Y-axis. These values can be given in the form of lists. The former list contains the words that are connected to the ticks on the X-axis, and the values in the latter list determine the heights of the various bars. \n",
    "\n",
    "Importantly, you need to conclude the code that creates the data visualisation with the command plt.show(). Without this command, the visualisation will not be created. The command should be used only once.\n",
    "\n",
    "N.B. When you add the line ```%matplotlib inline``` to a code block in a Jupyter Notebook, the graph that is created is also shown within the notebook."
   ]
  },
  {
   "cell_type": "code",
   "execution_count": 7,
   "metadata": {},
   "outputs": [
    {
     "data": {
      "image/png": "[encoded data removed]",
      "text/plain": [
       "<Figure size 864x432 with 1 Axes>"
      ]
     },
     "metadata": {
      "needs_background": "light"
     },
     "output_type": "display_data"
    }
   ],
   "source": [
    "%matplotlib inline\n",
    "\n",
    "import matplotlib.pyplot as plt\n",
    "import pandas as pd\n",
    "\n",
    "fig = plt.figure( figsize=(12,6) )\n",
    "ax = plt.axes()\n",
    "\n",
    "ax.bar( x_axis , y_axis )\n",
    "\n",
    "plt.show()\n"
   ]
  },
  {
   "cell_type": "markdown",
   "metadata": {},
   "source": [
    "The appearance of the bar chart can be adjusted via a number of parameters in the ```bar()``` function of Axes. You can specify the ```width``` and the ```color``` of the bars, for instance. As values for ‘color’, you can provide hexadecimal colour codes. The opacity of the bars can be manipulated using the ```alpha``` parameter.\n",
    "\n",
    "If the labels printed next to or underneath the ticks on the axes cannot be read, because of overlapping labels, for instance, it may be useful to change the orientation of these labels by making use of the ```xticks()``` or the ```yticks()``` methods in pyplot. The parameter in this method determines the rotation angle. \n",
    "\n",
    "It is advisable, furthermore, to annotate and to describe your data visualisations as much as possible. You can add a label for the X-axis and the Y-axis using the methods ```set_xlabel()``` and ```set_ylabel()```. The method ```set_title()``` may be used to add a general title to the plot. The string that is supplied within parentheses will be shown above the bar chart. These three methods can be used with a parameter named ```fontsize```.\n"
   ]
  },
  {
   "cell_type": "code",
   "execution_count": 8,
   "metadata": {},
   "outputs": [
    {
     "data": {
      "image/png": "[encoded data removed]",
      "text/plain": [
       "<Figure size 504x432 with 1 Axes>"
      ]
     },
     "metadata": {
      "needs_background": "light"
     },
     "output_type": "display_data"
    }
   ],
   "source": [
    "%matplotlib inline\n",
    "\n",
    "import matplotlib.pyplot as plt\n",
    "import pandas as pd\n",
    "\n",
    "\n",
    "fig = plt.figure( figsize=( 7 ,6 ) )\n",
    "ax = plt.axes()\n",
    "\n",
    "\n",
    "bar_width = 0.45\n",
    "opacity = 0.8\n",
    "\n",
    "ax.bar( x_axis , y_axis , width = bar_width, alpha = opacity , color = '#781926')\n",
    "\n",
    "plt.xticks(rotation= 90)\n",
    "\n",
    "ax.set_xlabel('Categories' , fontsize= 12)\n",
    "ax.set_ylabel('Mean values' , fontsize = 12 )\n",
    "ax.set_title( 'Sample data' , fontsize=28 )\n",
    "\n",
    "\n",
    "plt.show()"
   ]
  },
  {
   "cell_type": "markdown",
   "metadata": {},
   "source": [
    "\n",
    "## A line chart \n",
    "\n",
    "To create a line chart, you need to make use of the plot() method of the pyplot module. The following code create a line chart which displays the values in the column 'year' on the X-axis, and the corresponding values in column 'D' on the Y-axis. "
   ]
  },
  {
   "cell_type": "code",
   "execution_count": 9,
   "metadata": {},
   "outputs": [
    {
     "data": {
      "image/png": "[encoded data removed]",
      "text/plain": [
       "<Figure size 1080x288 with 1 Axes>"
      ]
     },
     "metadata": {},
     "output_type": "display_data"
    }
   ],
   "source": [
    "%matplotlib inline\n",
    "\n",
    "import matplotlib.pyplot as plt\n",
    "\n",
    "plt.style.use('ggplot')\n",
    "\n",
    "fig = plt.figure( figsize = ( 15, 4))\n",
    "ax = plt.axes()\n",
    "\n",
    "ax.plot( df['year'] , df['D'] , color = '#930d08' , linestyle = 'dashdot')\n",
    "\n",
    "ax.set_xlabel('Years')\n",
    "ax.set_ylabel('Variable D')\n",
    "\n",
    "\n",
    "ax.set_xlim( df['year'].min() , df['year'].max() )\n",
    "\n",
    "ax.set_title( 'Sample data')\n",
    "\n",
    "plt.show()"
   ]
  },
  {
   "cell_type": "markdown",
   "metadata": {},
   "source": [
    "The code above also demonstrates a number of additional possibilities of matplotlib. The ```plt.style.use()``` method changes the style of the graph. In themselves, the matplotlib graphics have a fairly plain and simple appearance. The style of the graphs can be modified by applying stylesheets. The code above applies the stylesheet named 'seaborn-pastel'. The box below lists a number of other options. "
   ]
  },
  {
   "cell_type": "code",
   "execution_count": 10,
   "metadata": {},
   "outputs": [],
   "source": [
    "plt.style.use('seaborn-whitegrid')\n",
    "plt.style.use('fivethirtyeight')\n",
    "plt.style.use('seaborn-pastel')\n",
    "plt.style.use('ggplot')\n",
    "plt.style.use('grayscale')\n",
    "\n",
    "## To see all the stylesheets that are \n",
    "## available, use the following:\n",
    "\n",
    "# print( plt.style.available )"
   ]
  },
  {
   "cell_type": "markdown",
   "metadata": {},
   "source": [
    "\n",
    "Like ```bar()```, the ```plot()``` method expects two parameters: the values for the X-axis, and the values for the Y-axis. It is also possible to specify the line style for the line chart. You can choose one of the options below:"
   ]
  },
  {
   "cell_type": "code",
   "execution_count": 11,
   "metadata": {},
   "outputs": [],
   "source": [
    "linestyle='solid'\n",
    "linestyle='dashed'\n",
    "linestyle='dashdot'\n",
    "linestyle='dotted'"
   ]
  },
  {
   "cell_type": "markdown",
   "metadata": {},
   "source": [
    "Matplotlib normally infers the limits of the X-axis and the Y-axis from your data. In some cases, however, you may want to adjust the limits of the axes yourself. \n",
    "\n",
    "As is illustrated, you can do this via ```set_xlim()```. The corresponding method for the Y-axis is ```set_ylim()```.  These two methods take two parameters: the lowest value and the highest value. The two numbers that you mention determine the range of values that you shall see on the X-axis and the Y-axis.\n",
    "\n",
    "## Saving images\n",
    "\n",
    "Next to opening the graph in a viewer on your screen, using show(), it is also possible to instruct Python to create an image file on your computer, via the ```savefig()``` method. As the first parameter to this function, you must provide a filename. The filename must include an extension, such as ‘jpeg’, ‘tiff’, ‘png’ or ‘pdf’. The methods savefig() and show() are mutually exclusive. When you use one of these, you cannot use the other. \n",
    "\n",
    "## A scatter plot\n",
    "\n",
    "A scatter plot is a data visualisation that makes use of dots to represent the values of two numerical variables. To create a scatterplot, you need to use the method ```scatter()``` in the Axes Class. Like ```plot()``` and ```bar()```, the ```scatter()``` method minimally demands two parameters: the values to be shown on the X-axis and the values that need to be plotted on the Y-axis. The sizes of the dots can be specified in the ```s``` parameter. \n",
    "\n"
   ]
  },
  {
   "cell_type": "code",
   "execution_count": 12,
   "metadata": {},
   "outputs": [
    {
     "data": {
      "image/png": "[encoded data removed]",
      "text/plain": [
       "<Figure size 432x432 with 1 Axes>"
      ]
     },
     "metadata": {},
     "output_type": "display_data"
    }
   ],
   "source": [
    "import matplotlib.pyplot as plt\n",
    "\n",
    "plt.style.use('seaborn-whitegrid')\n",
    "\n",
    "\n",
    "fig = plt.figure( figsize = ( 6,6 ))\n",
    "ax = plt.axes()\n",
    "\n",
    "\n",
    "ax.scatter( df['C'] , df['D'] , alpha=0.8,  s=80 , c = '#991ac7')\n",
    "\n",
    "ax.set_xlabel('Variable C' , fontsize = 16 )\n",
    "ax.set_ylabel('Variable D' , fontsize = 16 )\n",
    "\n",
    "plt.show()"
   ]
  },
  {
   "cell_type": "markdown",
   "metadata": {},
   "source": [
    "The colours of the dots in the scatter plot can be specified via a parameter called `c`. This parameter can be assigned a single static colour, as in the example above. \n",
    "\n",
    "When your data set includes a categorical variable, such as the variable named 'class' in the sample data set that is used in this tutorial, it can be helpful of the colours or the points can also vary along with the categories they belong to. Such more dynamic ways colouring the points can help to explore the differences between the various categories. \n",
    "\n",
    "To accomplish this, we must pass a list of colour code as a value to the `c` parameter. This list must have exactly the same number of items as the number of dots to be shown in the scatter plot. Basically, this list assigns a colour to each item in these lists. The code below creates a list of colours, also named `colours`, based on the values in the 'class' column.\n",
    "\n",
    "When the dots are displayed in different colours, it can obviously be useful to add a legend to explain the meaning of these colours. As will be shown below, the process of creating a legend is easier when we also have a dictionary which associates colours with labels for these colours. Next to a list of colours, the code below also creates a dictionary, named `legendDict`, which links colours to categories."
   ]
  },
  {
   "cell_type": "code",
   "execution_count": 13,
   "metadata": {},
   "outputs": [],
   "source": [
    "colours = []\n",
    "legendDict = dict()\n",
    "\n",
    "for index , row in df.iterrows():\n",
    "\n",
    "    if row[\"class\"] == 'Category1':\n",
    "        colours.append( '#a88732' )\n",
    "        legendDict[ colours[index] ] = row[\"class\"]\n",
    "    elif row[\"class\"] == 'Category2':\n",
    "        colours.append( '#265c28' )\n",
    "        legendDict[ colours[index] ] = row[\"class\"]\n",
    "    elif row[\"class\"] == 'Category3':\n",
    "        colours.append( '#a0061a' )\n",
    "        legendDict[ colours[index] ] = row[\"class\"]\n",
    "    else:\n",
    "        colours.append( '#431670' )\n",
    "        legendDict[ colours[index] ] = row[\"class\"]"
   ]
  },
  {
   "cell_type": "markdown",
   "metadata": {},
   "source": [
    "The list and the dictionary can be used, subsequently, in the code that creates the scatter plot. The plot itself is created, again, using the `scatter()` method. In this version of the scatter plot, the `c` parameter is assigned the `colours` list that was created earlier. \n",
    "\n",
    "As was already mentioned earlier, the `s` parameter of the `scatter()` method determines the sizes of the points. In the previous example, `s` was assigned a fixed value. In the value below, however, the `s` parameter is connected to the values in column 'A' (multiplied by 20, to make the differences more pronounced). The sizes of the points thus help to give information about the values in column A. \n",
    "\n",
    "The last few lines of the example below also generates a legend. It uses the legendDict created earlier. I this dictionary, the indexes store the colours, and the values store the labels associated with these colours. The code navigates across all the available colours, using the `for` keyword. It adds all of these colours to the diagram, via the `label` parameter of the `scatter()` method. It does not add any new points to the diagram, however. The first two parameters (which normally define the values to be shown on the X-axis and the Y-axis), contain empty lists. \n",
    "\n",
    "The legend is added, finally, using the legend() method, as illustated. This method can be used with the ```loc()``` parameter, which specifies the location of the legend, and the ```frameon()``` method. With frameon = False, the legend will be shown in a frame. When you use frameon = False, the background of the legend will become transparent."
   ]
  },
  {
   "cell_type": "code",
   "execution_count": 14,
   "metadata": {},
   "outputs": [
    {
     "data": {
      "image/png": "[encoded data removed]",
      "text/plain": [
       "<Figure size 576x576 with 1 Axes>"
      ]
     },
     "metadata": {},
     "output_type": "display_data"
    }
   ],
   "source": [
    "import matplotlib.pyplot as plt\n",
    "\n",
    "plt.style.use('seaborn-whitegrid')\n",
    "\n",
    "\n",
    "fig = plt.figure( figsize = ( 8,8 ))\n",
    "ax = plt.axes()\n",
    "\n",
    "\n",
    "ax.scatter( df['C'] , df['D'] , c = colours , alpha=0.8,  s= df['A'] * 20 )\n",
    "\n",
    "ax.set_xlabel('Variable C' , fontsize = 16 )\n",
    "ax.set_ylabel('Variable D' , fontsize = 16 )\n",
    "\n",
    "plt.title('Matplotlib scatter plot')\n",
    "\n",
    "\n",
    "for item in legendDict:\n",
    "    plt.scatter( [], [], c = item , label = legendDict[item] )\n",
    "\n",
    "plt.legend(loc=2 , frameon=True ,  prop={'size': 14} )\n",
    "\n",
    "\n",
    "plt.show()"
   ]
  },
  {
   "cell_type": "markdown",
   "metadata": {},
   "source": [
    "# Seaborn \n",
    "\n",
    "As you noticed, the code that is needed to create a visualisation in matplotlib can quickly become complicated, especially if you want to work with different colours and with legends. \n",
    "\n",
    "The whole process of working with colours and legends can be simplified enormously if we replace some of the methods from matplotlib with methods from the `seaborn` library. This latter visualisation library may be viewed as as extention and as a simplification of matplotlib. According to its [documentation]\n",
    "(http://seaborn.pydata.org/index.html), `seaborn` is a library based on matplotlib which \"provides a high-level interface for drawing attractive and informative statistical graphics\". \n",
    "\n",
    "To work with the methods from `seaborn`, the library obviously needs to be imported. "
   ]
  },
  {
   "cell_type": "code",
   "execution_count": 15,
   "metadata": {},
   "outputs": [],
   "source": [
    "import seaborn as sns"
   ]
  },
  {
   "cell_type": "markdown",
   "metadata": {},
   "source": [
    "## A scatter plot\n",
    "\n",
    "Scatter plots can be created via the `scatterplot()` method. The parameters `x` and `y` need to refer to column names, and the `data` parameter indicates the data frame you are working with. Seaborn will look for the column names that are mentioned in the `x` and `y` parameters in the data frame that is mentioned after `data`. You can specify a fixed colour for the points using the `color` parameter, and the size of the points can be set using the `s` parameter.  \n",
    "\n",
    "In `seaborn`, we do not need to use the `show()` method. When we call the `scatterplot()`, this will automatically create the graph. To save the image that is created, however, you can still work with the `savefig()` method."
   ]
  },
  {
   "cell_type": "code",
   "execution_count": 16,
   "metadata": {},
   "outputs": [
    {
     "data": {
      "image/png": "[encoded data removed]",
      "text/plain": [
       "<Figure size 576x576 with 1 Axes>"
      ]
     },
     "metadata": {},
     "output_type": "display_data"
    }
   ],
   "source": [
    "fig = plt.figure( figsize = ( 8,8 ))\n",
    "\n",
    "ax = sns.scatterplot(x = 'C' , y = 'D' , data = df , color = '#a0061a' , s = 100 ) \n",
    "\n",
    "plt.savefig('scatterplot.jpg')"
   ]
  },
  {
   "cell_type": "markdown",
   "metadata": {},
   "source": [
    "The code above is not necessarily more efficient that the code that you would use for this task in matplotlib. The true value of seaborn becomes apparent, however, when we want to create a scatter plot in which the sizes and the colours of the point are determined by the values from our data set. To let the colours of the points represent the values in a specific column, you can simply mention the name of this column in the `hue` parameter. In the code below, you can see that the hues are determined by the values of the `class` column.\n",
    "\n",
    "You can also let the sizes of the points vary along with the values in a specific column by supplying the name of this column as the value of the `size` parameter. The point sizes in the graph below represent the values in the column named 'A'.\n",
    "\n",
    "When the `hue` and/or the `size` parameter is used, seaborn will add a legend automatically. \n",
    "\n",
    "When the actual values in the column that you associate with the `size` parameter are too small, you can rescale these values using the `sizes` parameter, which demand two values: a minimum size and a maximum size. The values of the column that is mentioned in `size` will then be rescaled, on the range that is determined by these minimum and maximum size.  \n",
    "\n",
    "In the `palette` parameter, we can specify the colours to be used in teh scatter plot. If we leave out the `palette` parameter, seaborn will choose its own colours. "
   ]
  },
  {
   "cell_type": "code",
   "execution_count": null,
   "metadata": {},
   "outputs": [],
   "source": [
    "colours = [  '#a88732' ,  '#265c28' , '#a0061a' ,  '#431670' ]\n",
    "\n",
    "sizeVariable = 'A'\n",
    "\n",
    "## The line below sets the stylesheet\n",
    "## and also adds spacing in between the lines of the legend \n",
    "sns.set(style='whitegrid', rc = {'legend.labelspacing': 2})\n",
    "\n",
    "\n",
    "fig = plt.figure( figsize = ( 8,8 ))\n",
    "\n",
    "ax = sns.scatterplot(x = 'C' , y = 'D' , data=df,  legend = 'brief' ,  hue= 'class' , size = 'A' , sizes=( 100 , 1000), palette = colours )\n",
    "\n",
    "# this next line makes sure that the legend is shown outside of the graph\n",
    "plt.legend(bbox_to_anchor=(1.05, 1), loc=2, borderaxespad=0.);"
   ]
  },
  {
   "cell_type": "markdown",
   "metadata": {},
   "source": [
    "You can see that, using seaborn, you can create fairly advanced scatter plots with only a few lines of code. \n",
    "\n",
    "## A boxplot\n",
    "\n",
    "With seaborn, we can also create many other types of visualisations. A boxplot, for instance, is a diagram which visualises the minimum, the maximum, the median and the first and third quartiles. It can be created using the `boxplot()` method. "
   ]
  },
  {
   "cell_type": "code",
   "execution_count": null,
   "metadata": {},
   "outputs": [],
   "source": [
    "## A new data frame is created, containing only the numerical variables\n",
    "## The categorical variables ('year' and 'class') are removed.\n",
    "df2 = df.filter( [ 'A' , 'B' , 'C' , 'D' ] )\n",
    " \n",
    "ax = sns.boxplot(data=df2 , palette = colours );"
   ]
  },
  {
   "cell_type": "markdown",
   "metadata": {},
   "source": [
    "## A barplot\n",
    "\n",
    "Bar plots can be created using the `barplot()` method, as shown below. "
   ]
  },
  {
   "cell_type": "code",
   "execution_count": null,
   "metadata": {},
   "outputs": [],
   "source": [
    "ax = sns.barplot( x = x_axis , y= y_axis , color = '#482eab' , dodge=False )"
   ]
  },
  {
   "cell_type": "markdown",
   "metadata": {},
   "source": [
    "## A heatmap "
   ]
  },
  {
   "cell_type": "markdown",
   "metadata": {},
   "source": [
    "In seaborn, a heatmap clarifying the correlations among the variables in the data set can be created using only two lines of code."
   ]
  },
  {
   "cell_type": "code",
   "execution_count": null,
   "metadata": {},
   "outputs": [],
   "source": [
    "## Correlations can be calculated using pandas' corr() \n",
    "correlations = df2.corr()\n",
    " \n",
    "# Heatmap\n",
    "ax = sns.heatmap(correlations)"
   ]
  },
  {
   "cell_type": "markdown",
   "metadata": {},
   "source": [
    "## A line plot\n",
    "\n",
    "To create a line plot, use the `lineplot()` method. The colour of the line can be changed using the `color` parameter.\n"
   ]
  },
  {
   "cell_type": "code",
   "execution_count": null,
   "metadata": {},
   "outputs": [],
   "source": [
    "fig = plt.figure( figsize = ( 12, 4))\n",
    "ax = sns.lineplot(x=\"year\", y=\"D\" , data= df , color  = '#AA6799' )"
   ]
  },
  {
   "cell_type": "markdown",
   "metadata": {},
   "source": [
    "## Density plot\n",
    "\n",
    "To visualise density regions, you can work with `kdeplot()`."
   ]
  },
  {
   "cell_type": "code",
   "execution_count": null,
   "metadata": {},
   "outputs": [],
   "source": [
    "ax = sns.kdeplot( df['A'] , df['B'] , shade=True )"
   ]
  },
  {
   "cell_type": "markdown",
   "metadata": {},
   "source": [
    "Many other types are diagrams can be created. For more information, visit the [gallery](https://seaborn.pydata.org/examples/index.html) or the [tutorials](https://seaborn.pydata.org/tutorial.html) on the seaborn website. "
   ]
  },
  {
   "cell_type": "markdown",
   "metadata": {},
   "source": [
    "# Exercises"
   ]
  },
  {
   "cell_type": "markdown",
   "metadata": {},
   "source": [
    "# Exercise 12.1\n",
    "\n",
    "In exercise 11.3, you created a CSV file named 'prices_of_coffee_over_time.csv', containing data about the average price of a pound of coffee on a range of dates. Use this CSV file to create a line chart which visualises the development of these prices over time. "
   ]
  },
  {
   "cell_type": "code",
   "execution_count": null,
   "metadata": {},
   "outputs": [],
   "source": []
  },
  {
   "cell_type": "markdown",
   "metadata": {},
   "source": [
    "# Exercise 12.2\n",
    "\n",
    "Download the following data set:\n",
    "\n",
    "https://edu.nl/bcm4x\n",
    "\n",
    "This file contains data collected for the [2018 Better Life Index](https://stats.oecd.org/index.aspx?DataSetCode=BLI), which was created by the OECD to visuale some of the key factors  that contribute to well-being in OECD countries, including education, income, housing and environment.\n",
    "\n",
    "Using this data set, create a bar chart which can be used to compare either the 'personal_earnings' or the 'life_satisfaction' in OECD countries. "
   ]
  },
  {
   "cell_type": "code",
   "execution_count": null,
   "metadata": {},
   "outputs": [],
   "source": []
  },
  {
   "cell_type": "markdown",
   "metadata": {},
   "source": [
    "# Exercise 12.3\n",
    "\n",
    "Using the CSV file that you have downloaded for exercise in 12.2 to create a scatter plot. The X-axis must visualise the values in the column 'self-reported_health', and the Y-axis must show the 'employment_rate'. The size of the points must represent the 'educational_attainment' and the colour of the points ust indicate the 'air_pollution'. "
   ]
  },
  {
   "cell_type": "code",
   "execution_count": null,
   "metadata": {},
   "outputs": [],
   "source": []
  },
  {
   "cell_type": "markdown",
   "metadata": {},
   "source": [
    "## Exercise 12.4\n",
    "\n",
    "# Exercise 11.4\n",
    "\n",
    "PISA is the OECD's [Programme for International Student Assessment](https://www.oecd.org/pisa/). This programme evaluates educational systems globally by measuring the performance of 15 year-old-children in mathematics, science and reading. The latest study is from 2018. \n",
    "\n",
    "The CSV file '[pisa.csv](https://edu.nl/p97ma)' contains all the scores measured for mathematics and reading in between 2000 and 2018.  \n",
    "\n",
    "Using Pandas, Matplotlib and Seaborn, create visualisations which can help to answer the following questions:\n",
    "\n",
    "1. How did the various countries that were examined in 2018 perform? Which contries had the highest scores, and which countries had the lowest scores? How did the score of the Netherlands compare to those of other countries? You can limit the analyses to the the 'total' scores (i.e. those records in which column 'object' has value 'TOT'). \n",
    "\n",
    "2. Were the scores for reading correlated to the scores for mathematics in 2018? Answer this question by creating a scatter plot. \n",
    "\n",
    "3. How did the scores for reading develop in the Netherlands in between 2000 and 2018? Focus on the score for boys and for girls separately. \n",
    "\n",
    "4. Have the scores remained relatively stable over the years if we look at the total scores? Or has there been some variation? How does the variation of the scores for the Netherlands compare to the scores in France, Germany, Belgium and Luxembourg? Try to answer this question by crearing a boxplot. "
   ]
  },
  {
   "cell_type": "code",
   "execution_count": null,
   "metadata": {},
   "outputs": [],
   "source": []
  }
 ],
 "metadata": {
  "kernelspec": {
   "display_name": "Python 3",
   "language": "python",
   "name": "python3"
  },
  "language_info": {
   "codemirror_mode": {
    "name": "ipython",
    "version": 3
   },
   "file_extension": ".py",
   "mimetype": "text/x-python",
   "name": "python",
   "nbconvert_exporter": "python",
   "pygments_lexer": "ipython3",
   "version": "3.7.4"
  }
 },
 "nbformat": 4,
 "nbformat_minor": 2
}
