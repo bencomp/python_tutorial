{
 "cells": [
  {
   "cell_type": "markdown",
   "metadata": {},
   "source": [
    "# 1. Variables and data types"
   ]
  },
  {
   "cell_type": "markdown",
   "metadata": {},
   "source": [
    "## Statements\n",
    "\n",
    "Computer programs are generally written to solve specific problems or to automate certain activities. They consist of instructions or command which tell the computer what to do. Such instructions are referred to as statements. \n",
    "\n",
    "In the Python language, the individual statements are delineated by hard returns. The end of the statement (i.e. the hard return) is a cue which triggers the Python parser to interpret and to execute the statement. "
   ]
  },
  {
   "cell_type": "markdown",
   "metadata": {},
   "source": [
    "## Printing output\n",
    "\n",
    "Programs usually produce some output. This output can be the result of a calculation, for instance. The `print()` function can be used to communicate the output of the program to the user. As will be explained in more detail later, a function is a named collection of statements. \n",
    "\n",
    "The print() function is always used with parentheses. Inside the parentheses, you can provide the text that you would like the computer to display. This text can be provided either in single or in double quotes."
   ]
  },
  {
   "cell_type": "code",
   "execution_count": null,
   "metadata": {},
   "outputs": [],
   "source": [
    "print('This program works!')"
   ]
  },
  {
   "cell_type": "markdown",
   "metadata": {},
   "source": [
    "You can also format the text, to some extent. The character '\\t' prints a tab, and '\\n' creates a hard return. Note that the print() function also adds a line breaks itself."
   ]
  },
  {
   "cell_type": "code",
   "execution_count": null,
   "metadata": {},
   "outputs": [],
   "source": [
    "print('This sentence is followed by two line breaks. \\n')\n",
    "print('This line contains \\ta tab. ')"
   ]
  },
  {
   "cell_type": "markdown",
   "metadata": {},
   "source": [
    "## Variables \n",
    "\n",
    "Virtually all programming languages make use of variables of some sort. Variables can be thought of as containers or as boxes in which information can be stored temporarily. Variables always need to be given a name. This name can be used to retrieve the 'contents' of the variable. These contents (the data referred to by the variable) are also referred to as the variable's *value*. \n",
    "\n",
    "Variables names can consist of any combination of alphanumerical characters that you can think of. Underscores are also allowed in variable names. Variable names cannot begin with a number however, and they cannot contain any spaces.\n",
    "\n",
    "Although it is possible to work with any sequence of characters, your script will evidently be most understandable when you make use of variable names which are meaningful. \n",
    "\n",
    "Note that there are a number of reserved words which have a particular function in the Python language, and which cannot be used as variable names for this reason. The list of reserved words include ‘for’, ‘in’, ‘is’, ‘print’, ‘global’, ‘def’, ‘if, ‘elif’ and ‘else’. \n",
    "\n",
    "As mentioned, variables can be given a value. The act of giving a value to a certain variable is called *assignment*. In the first example, the variable named place_name is assigned the value ‘Leiden’. The second example captures a number."
   ]
  },
  {
   "cell_type": "code",
   "execution_count": null,
   "metadata": {},
   "outputs": [],
   "source": [
    "place_name = 'Leiden'\n",
    "number_of_inhabitants = 123924"
   ]
  },
  {
   "cell_type": "markdown",
   "metadata": {},
   "source": [
    "## Data types\n",
    "\n",
    "Computer program often process or manipulate specific data values. Such values are always of a specific type. \n",
    "\n",
    "**Strings**\n",
    "\n",
    "In the example above, the variable `place_name` is assigned a string value. A string stores a text fragment: a sequence of alphanumeric characters and spaces. Strings can be created either with single quotes, double quotes or triple quotes ('''). The single quote and the double quote are most common. They are often used interchangeably. You can find a number of examples of strings below."
   ]
  },
  {
   "cell_type": "code",
   "execution_count": null,
   "metadata": {},
   "outputs": [],
   "source": [
    "\"Hello world!\""
   ]
  },
  {
   "cell_type": "code",
   "execution_count": null,
   "metadata": {},
   "outputs": [],
   "source": [
    "'This is a string created with single quotes'"
   ]
  },
  {
   "cell_type": "code",
   "execution_count": null,
   "metadata": {},
   "outputs": [],
   "source": [
    "'''The triple quotes are conventionally used to create longer strings,\n",
    "i.e. strings with span multiple lines.'''"
   ]
  },
  {
   "cell_type": "markdown",
   "metadata": {},
   "source": [
    "The text fragment that you want to work with may sometimes contain a single quote or a double quote as well. Python would normally treat such quotes as the characters that end the end of a string, and would not be able to parse the remainder of the string correctly. You need tp take special measures to ensure that such string containing quotes do not lead to syntax errors. One approach is to surround a string containing single quotes only with double quotes. Vice versa, a string containing double quotes can be created using a single quote.  "
   ]
  },
  {
   "cell_type": "code",
   "execution_count": null,
   "metadata": {},
   "outputs": [],
   "source": [
    "\"Code is like humour. When you have to explain it, it’s bad.\""
   ]
  },
  {
   "cell_type": "code",
   "execution_count": null,
   "metadata": {},
   "outputs": [],
   "source": [
    "'According to Oscar Wilde, \"Experience is the name everyone gives to their mistakes.\". '"
   ]
  },
  {
   "cell_type": "markdown",
   "metadata": {},
   "source": [
    "If your string contains both single and double quotes, you may work with the triple quotes. "
   ]
  },
  {
   "cell_type": "code",
   "execution_count": null,
   "metadata": {},
   "outputs": [],
   "source": [
    "quote = '''\n",
    "\"But I don’t want to go among mad people\"” Alice remarked.\n",
    "\"Oh, you can’t help that,\" said the Cat: \"we're all mad here. I'm mad. You're mad.\"\n",
    "'''"
   ]
  },
  {
   "cell_type": "markdown",
   "metadata": {},
   "source": [
    "**Numbers**\n",
    "\n",
    "In Python, there are two types of numbers. *Integers*, firstly, are whole numbers. They are natural numbers without a fractional or decimal part. Integers can also be negative numbers."
   ]
  },
  {
   "cell_type": "code",
   "execution_count": null,
   "metadata": {},
   "outputs": [],
   "source": [
    "age = 20\n",
    "nr_pages = 273\n",
    "negative = -3"
   ]
  },
  {
   "cell_type": "markdown",
   "metadata": {},
   "source": [
    "Next to such integers, Python can also work with rational numbers. They are called floats or *floating point* numbers.  "
   ]
  },
  {
   "cell_type": "code",
   "execution_count": null,
   "metadata": {},
   "outputs": [],
   "source": [
    "pi = 3.14159265359"
   ]
  },
  {
   "cell_type": "markdown",
   "metadata": {},
   "source": [
    "Unlike strings, numbers are *never* surrounded by quotes. When you place a single number in a pair of quotes, this will automatically convert the number into a string. \n",
    "\n",
    "The type of a variable can always be found by using the type() function."
   ]
  },
  {
   "cell_type": "code",
   "execution_count": null,
   "metadata": {},
   "outputs": [],
   "source": [
    "age = 20\n",
    "print( type(age) )\n",
    "## this will print <class 'int'>"
   ]
  },
  {
   "cell_type": "code",
   "execution_count": null,
   "metadata": {},
   "outputs": [],
   "source": [
    "pi = 3.14159265359\n",
    "print( type(pi) )\n",
    "## <class 'float'>"
   ]
  },
  {
   "cell_type": "code",
   "execution_count": null,
   "metadata": {},
   "outputs": [],
   "source": [
    "number_of_inhabitants = \"123924\"\n",
    "print( type(number_of_inhabitants) )\n",
    "## this will print <class 'str'>. 'str' stands for 'string'"
   ]
  },
  {
   "cell_type": "markdown",
   "metadata": {},
   "source": [
    "A floating point number can be converted into an integer using the `int()` function. This process is called coercion. By the same tyoken, an integer can be *coerced* into a float using the `float()` function. If needed, numbers can also be converted into strings using the function `str()`.   "
   ]
  },
  {
   "cell_type": "code",
   "execution_count": null,
   "metadata": {},
   "outputs": [],
   "source": [
    "grade = 7.487\n",
    "grade_int = int(grade)\n",
    "type(grade_int)"
   ]
  },
  {
   "cell_type": "code",
   "execution_count": null,
   "metadata": {},
   "outputs": [],
   "source": [
    "money = 40\n",
    "money_float = float(money )\n",
    "type(money_float)"
   ]
  },
  {
   "cell_type": "markdown",
   "metadata": {},
   "source": [
    "**Boolean values**\n",
    "\n",
    "A Boolean variable can only be assigned two values: either True or False. They are often used to test whether someting is the case. These values will be discussed in more detail in the section on '*Flow Control*'"
   ]
  },
  {
   "cell_type": "markdown",
   "metadata": {},
   "source": [
    "## Comments\n",
    "\n",
    "Incidentally, the last code block that you can see above also illustrates another feature of the Python language. Lines can be preceded by the hash (‘#’) symbol. Lines that start with a hash are called comments. Comments are always ignored by the Python interpreter. They are included exclusively for human readers of the code.\n",
    "\n",
    "Such comments can be very useful when you want to document your code. Computer programs can sometimes be difficut to understand, and, in such situations, comments may help to explain in understandable language what happens exactly in specific parts of the code. "
   ]
  },
  {
   "cell_type": "markdown",
   "metadata": {},
   "source": [
    "## Printing output\n",
    "\n",
    "Programs usually produce some output. This output can be the result of a calculation, for instance. The print() function can be used to communicate the output of the program to the user. As will be explained in more detail later, a function is a named collection of statements. \n",
    "\n",
    "The print() function is always used with parentheses. Inside the parentheses, you can provide the string that you would like the computer to display. A string, as was explained above, is a sequence of alphanumerical characters and spaces. "
   ]
  },
  {
   "cell_type": "code",
   "execution_count": null,
   "metadata": {},
   "outputs": [],
   "source": [
    "print('This program works!')"
   ]
  },
  {
   "cell_type": "markdown",
   "metadata": {},
   "source": [
    "You can also format the text, to some extent. The character '\\t' prints a tab, and '\\n' creates a hard return. Note that the print() function also adds a line breaks itself."
   ]
  },
  {
   "cell_type": "code",
   "execution_count": null,
   "metadata": {},
   "outputs": [],
   "source": [
    "print('This sentence is followed by two line breaks. \\n')\n",
    "print('This line contains \\ta tab. ')"
   ]
  },
  {
   "cell_type": "markdown",
   "metadata": {},
   "source": [
    "When you provide the name of a variable inside the `print()` fuction, this will display the *value* of assogned to this variable. "
   ]
  },
  {
   "cell_type": "code",
   "execution_count": 61,
   "metadata": {},
   "outputs": [
    {
     "name": "stdout",
     "output_type": "stream",
     "text": [
      "3.14159265359\n"
     ]
    }
   ],
   "source": [
    "pi = 3.14159265359\n",
    "print(pi)"
   ]
  },
  {
   "cell_type": "markdown",
   "metadata": {},
   "source": [
    "\n",
    "# Exercises\n",
    "    \n"
   ]
  },
  {
   "cell_type": "markdown",
   "metadata": {},
   "source": [
    "## Exercise 1.1.\n",
    "\n",
    "Write code that can print the sentence “Hello world” or any other sentence that you can think of."
   ]
  },
  {
   "cell_type": "code",
   "execution_count": null,
   "metadata": {},
   "outputs": [],
   "source": []
  },
  {
   "cell_type": "markdown",
   "metadata": {},
   "source": [
    "## Exercise 1.2.\n",
    "\n",
    "\n",
    "Write a program which produces the following output: \n",
    "\n",
    "```\n",
    "This is the first line.\n",
    "This is the second line.\n",
    "This line contains a        tab. \n",
    "```\n"
   ]
  },
  {
   "cell_type": "code",
   "execution_count": null,
   "metadata": {},
   "outputs": [],
   "source": []
  },
  {
   "cell_type": "markdown",
   "metadata": {},
   "source": [
    "## Exercise 1.3.\n",
    "\n",
    "Create a new variable and assign it a floating point number. Next, coerce it into an integer using the `int()` function. Next, display the new value of this variable using the `print()` function. What happened to the numbers after the decimal point?"
   ]
  },
  {
   "cell_type": "code",
   "execution_count": null,
   "metadata": {},
   "outputs": [],
   "source": []
  },
  {
   "cell_type": "markdown",
   "metadata": {},
   "source": [
    "## Exercise 1.4\n",
    "\n",
    "Try to debug the code below. "
   ]
  },
  {
   "cell_type": "code",
   "execution_count": null,
   "metadata": {},
   "outputs": [],
   "source": [
    "print( 'It's not always easy to see the mistakes in your code.' )\n",
    "print( \"The ability to debug can be really useful. )\n",
    "print( \"Don't forget to read the error messages! They're often very useful.'"
   ]
  },
  {
   "cell_type": "markdown",
   "metadata": {},
   "source": [
    "< [Table of contents](index.html) | [Operators](Operators.html)  >"
   ]
  }
 ],
 "metadata": {
  "kernelspec": {
   "display_name": "Python 3",
   "language": "python",
   "name": "python3"
  },
  "language_info": {
   "codemirror_mode": {
    "name": "ipython",
    "version": 3
   },
   "file_extension": ".py",
   "mimetype": "text/x-python",
   "name": "python",
   "nbconvert_exporter": "python",
   "pygments_lexer": "ipython3",
   "version": "3.7.4"
  }
 },
 "nbformat": 4,
 "nbformat_minor": 2
}
